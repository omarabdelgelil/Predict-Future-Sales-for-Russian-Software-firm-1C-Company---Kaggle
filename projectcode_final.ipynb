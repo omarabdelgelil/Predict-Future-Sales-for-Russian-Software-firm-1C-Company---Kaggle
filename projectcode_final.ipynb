{
 "cells": [
  {
   "cell_type": "markdown",
   "metadata": {
    "papermill": {
     "duration": 0.009679,
     "end_time": "2020-09-01T15:47:12.641975",
     "exception": false,
     "start_time": "2020-09-01T15:47:12.632296",
     "status": "completed"
    },
    "tags": []
   },
   "source": [
    "# Download Necessary Libraries"
   ]
  },
  {
   "cell_type": "code",
   "execution_count": 1,
   "metadata": {},
   "outputs": [
    {
     "name": "stdout",
     "output_type": "stream",
     "text": [
      "Collecting lightgbm\n",
      "  Downloading https://files.pythonhosted.org/packages/80/28/fecd02e7856e36afcdc71ee968b1b3859b3bc784e042991d5520e4d7be2c/lightgbm-3.1.1-py2.py3-none-win_amd64.whl (754kB)\n",
      "Requirement already satisfied: numpy in c:\\anaconda3\\lib\\site-packages (from lightgbm) (1.16.5)\n",
      "Requirement already satisfied: wheel in c:\\anaconda3\\lib\\site-packages (from lightgbm) (0.33.6)\n",
      "Requirement already satisfied: scipy in c:\\anaconda3\\lib\\site-packages (from lightgbm) (1.3.1)\n",
      "Requirement already satisfied: scikit-learn!=0.22.0 in c:\\anaconda3\\lib\\site-packages (from lightgbm) (0.21.3)\n",
      "Requirement already satisfied: joblib>=0.11 in c:\\anaconda3\\lib\\site-packages (from scikit-learn!=0.22.0->lightgbm) (0.13.2)\n",
      "Installing collected packages: lightgbm\n",
      "Successfully installed lightgbm-3.1.1\n"
     ]
    }
   ],
   "source": [
    "!pip install lightgbm"
   ]
  },
  {
   "cell_type": "code",
   "execution_count": 3,
   "metadata": {},
   "outputs": [
    {
     "name": "stdout",
     "output_type": "stream",
     "text": [
      "Collecting xgboost\n",
      "  Downloading https://files.pythonhosted.org/packages/0d/40/bf9d114c94a1e58afd93ec7f35a839d0f766c10f22e38dc2b3df5b883cd2/xgboost-1.3.1-py3-none-win_amd64.whl (95.2MB)\n",
      "Requirement already satisfied: scipy in c:\\anaconda3\\lib\\site-packages (from xgboost) (1.3.1)\n",
      "Requirement already satisfied: numpy in c:\\anaconda3\\lib\\site-packages (from xgboost) (1.16.5)\n",
      "Installing collected packages: xgboost\n",
      "Successfully installed xgboost-1.3.1\n"
     ]
    }
   ],
   "source": [
    "!pip install xgboost"
   ]
  },
  {
   "cell_type": "code",
   "execution_count": 4,
   "metadata": {
    "execution": {
     "iopub.execute_input": "2020-09-01T15:47:12.669978Z",
     "iopub.status.busy": "2020-09-01T15:47:12.669108Z",
     "iopub.status.idle": "2020-09-01T15:47:14.868844Z",
     "shell.execute_reply": "2020-09-01T15:47:14.868039Z"
    },
    "papermill": {
     "duration": 2.216926,
     "end_time": "2020-09-01T15:47:14.868972",
     "exception": false,
     "start_time": "2020-09-01T15:47:12.652046",
     "status": "completed"
    },
    "tags": []
   },
   "outputs": [],
   "source": [
    "import pandas as pd\n",
    "import numpy as np\n",
    "import seaborn as sns\n",
    "import matplotlib.pyplot as plt\n",
    "from itertools import product\n",
    "from xgboost import XGBRegressor\n",
    "from sklearn.preprocessing import LabelEncoder\n",
    "from sklearn.linear_model import LinearRegression\n",
    "from sklearn.neighbors import KNeighborsRegressor\n",
    "from sklearn.ensemble import RandomForestRegressor\n",
    "import lightgbm as lgb\n",
    "import calendar\n",
    "from datetime import datetime\n",
    "%matplotlib inline"
   ]
  },
  {
   "cell_type": "markdown",
   "metadata": {
    "papermill": {
     "duration": 0.00812,
     "end_time": "2020-09-01T15:47:14.887687",
     "exception": false,
     "start_time": "2020-09-01T15:47:14.879567",
     "status": "completed"
    },
    "tags": []
   },
   "source": [
    "#  Read in the Input data"
   ]
  },
  {
   "cell_type": "code",
   "execution_count": 5,
   "metadata": {
    "execution": {
     "iopub.execute_input": "2020-09-01T15:47:14.912932Z",
     "iopub.status.busy": "2020-09-01T15:47:14.912249Z",
     "iopub.status.idle": "2020-09-01T15:47:16.576491Z",
     "shell.execute_reply": "2020-09-01T15:47:16.575798Z"
    },
    "papermill": {
     "duration": 1.680401,
     "end_time": "2020-09-01T15:47:16.576611",
     "exception": false,
     "start_time": "2020-09-01T15:47:14.896210",
     "status": "completed"
    },
    "tags": []
   },
   "outputs": [],
   "source": [
    "test = pd.read_csv('C:/Users/oabdelgelil/Desktop/datasets/test.csv')\n",
    "sales = pd.read_csv('C:/Users/oabdelgelil/Desktop/datasets/sales_train.csv')\n",
    "shops = pd.read_csv('C:/Users/oabdelgelil/Desktop/datasets/shops.csv')\n",
    "items = pd.read_csv('C:/Users/oabdelgelil/Desktop/datasets/items.csv')\n",
    "item_cats = pd.read_csv('C:/Users/oabdelgelil/Desktop/datasets/item_categories.csv')"
   ]
  },
  {
   "cell_type": "markdown",
   "metadata": {
    "papermill": {
     "duration": 0.008164,
     "end_time": "2020-09-01T15:47:16.593616",
     "exception": false,
     "start_time": "2020-09-01T15:47:16.585452",
     "status": "completed"
    },
    "tags": []
   },
   "source": [
    "# Data Cleaning"
   ]
  },
  {
   "cell_type": "markdown",
   "metadata": {
    "papermill": {
     "duration": 0.008319,
     "end_time": "2020-09-01T15:47:16.610584",
     "exception": false,
     "start_time": "2020-09-01T15:47:16.602265",
     "status": "completed"
    },
    "tags": []
   },
   "source": [
    "Remove outliers"
   ]
  },
  {
   "cell_type": "code",
   "execution_count": 6,
   "metadata": {
    "execution": {
     "iopub.execute_input": "2020-09-01T15:47:16.636670Z",
     "iopub.status.busy": "2020-09-01T15:47:16.636032Z",
     "iopub.status.idle": "2020-09-01T15:47:17.412222Z",
     "shell.execute_reply": "2020-09-01T15:47:17.412669Z"
    },
    "papermill": {
     "duration": 0.793555,
     "end_time": "2020-09-01T15:47:17.412815",
     "exception": false,
     "start_time": "2020-09-01T15:47:16.619260",
     "status": "completed"
    },
    "tags": []
   },
   "outputs": [
    {
     "data": {
      "text/plain": [
       "<matplotlib.axes._subplots.AxesSubplot at 0x1700eec7b08>"
      ]
     },
     "execution_count": 6,
     "metadata": {},
     "output_type": "execute_result"
    },
    {
     "data": {
      "image/png": "[encoded data removed]",
      "text/plain": [
       "<Figure size 432x288 with 1 Axes>"
      ]
     },
     "metadata": {
      "needs_background": "light"
     },
     "output_type": "display_data"
    }
   ],
   "source": [
    "sns.boxplot(x=sales.item_cnt_day)"
   ]
  },
  {
   "cell_type": "code",
   "execution_count": 7,
   "metadata": {
    "execution": {
     "iopub.execute_input": "2020-09-01T15:47:17.442356Z",
     "iopub.status.busy": "2020-09-01T15:47:17.441595Z",
     "iopub.status.idle": "2020-09-01T15:47:18.110409Z",
     "shell.execute_reply": "2020-09-01T15:47:18.111084Z"
    },
    "papermill": {
     "duration": 0.689091,
     "end_time": "2020-09-01T15:47:18.111233",
     "exception": false,
     "start_time": "2020-09-01T15:47:17.422142",
     "status": "completed"
    },
    "tags": []
   },
   "outputs": [
    {
     "data": {
      "text/plain": [
       "<matplotlib.axes._subplots.AxesSubplot at 0x17011db72c8>"
      ]
     },
     "execution_count": 7,
     "metadata": {},
     "output_type": "execute_result"
    },
    {
     "data": {
      "image/png": "[encoded data removed]",
      "text/plain": [
       "<Figure size 432x288 with 1 Axes>"
      ]
     },
     "metadata": {
      "needs_background": "light"
     },
     "output_type": "display_data"
    }
   ],
   "source": [
    "sns.boxplot(x=sales.item_price)"
   ]
  },
  {
   "cell_type": "code",
   "execution_count": 8,
   "metadata": {
    "execution": {
     "iopub.execute_input": "2020-09-01T15:47:18.135122Z",
     "iopub.status.busy": "2020-09-01T15:47:18.134395Z",
     "iopub.status.idle": "2020-09-01T15:47:18.583805Z",
     "shell.execute_reply": "2020-09-01T15:47:18.582957Z"
    },
    "papermill": {
     "duration": 0.4634,
     "end_time": "2020-09-01T15:47:18.583986",
     "exception": false,
     "start_time": "2020-09-01T15:47:18.120586",
     "status": "completed"
    },
    "tags": []
   },
   "outputs": [
    {
     "name": "stderr",
     "output_type": "stream",
     "text": [
      "C:\\anaconda3\\lib\\site-packages\\ipykernel_launcher.py:2: UserWarning: Boolean Series key will be reindexed to match DataFrame index.\n",
      "  \n"
     ]
    }
   ],
   "source": [
    "train = sales[(sales.item_price < 100000) & (sales.item_price > 0)]\n",
    "train = train[sales.item_cnt_day < 1001]"
   ]
  },
  {
   "cell_type": "markdown",
   "metadata": {
    "papermill": {
     "duration": 0.014936,
     "end_time": "2020-09-01T15:47:18.612450",
     "exception": false,
     "start_time": "2020-09-01T15:47:18.597514",
     "status": "completed"
    },
    "tags": []
   },
   "source": [
    "Remove duplicates"
   ]
  },
  {
   "cell_type": "code",
   "execution_count": 9,
   "metadata": {
    "execution": {
     "iopub.execute_input": "2020-09-01T15:47:18.648120Z",
     "iopub.status.busy": "2020-09-01T15:47:18.647351Z",
     "iopub.status.idle": "2020-09-01T15:47:18.652191Z",
     "shell.execute_reply": "2020-09-01T15:47:18.651377Z"
    },
    "papermill": {
     "duration": 0.027321,
     "end_time": "2020-09-01T15:47:18.652353",
     "exception": false,
     "start_time": "2020-09-01T15:47:18.625032",
     "status": "completed"
    },
    "tags": []
   },
   "outputs": [
    {
     "name": "stdout",
     "output_type": "stream",
     "text": [
      "0     !Якутск Орджоникидзе, 56 фран\n",
      "57          Якутск Орджоникидзе, 56\n",
      "Name: shop_name, dtype: object\n",
      "1     !Якутск ТЦ \"Центральный\" фран\n",
      "58          Якутск ТЦ \"Центральный\"\n",
      "Name: shop_name, dtype: object\n",
      "39              РостовНаДону ТРК \"Мегацентр Горизонт\"\n",
      "40    РостовНаДону ТРК \"Мегацентр Горизонт\" Островной\n",
      "Name: shop_name, dtype: object\n"
     ]
    }
   ],
   "source": [
    "print(shops[shops.shop_id.isin([0, 57])]['shop_name'])\n",
    "print(shops[shops.shop_id.isin([1, 58])]['shop_name'])\n",
    "print(shops[shops.shop_id.isin([40, 39])]['shop_name'])"
   ]
  },
  {
   "cell_type": "code",
   "execution_count": 10,
   "metadata": {
    "execution": {
     "iopub.execute_input": "2020-09-01T15:47:18.684005Z",
     "iopub.status.busy": "2020-09-01T15:47:18.682931Z",
     "iopub.status.idle": "2020-09-01T15:47:18.750467Z",
     "shell.execute_reply": "2020-09-01T15:47:18.750948Z"
    },
    "papermill": {
     "duration": 0.085054,
     "end_time": "2020-09-01T15:47:18.751114",
     "exception": false,
     "start_time": "2020-09-01T15:47:18.666060",
     "status": "completed"
    },
    "tags": []
   },
   "outputs": [],
   "source": [
    "train.loc[train.shop_id == 0, 'shop_id'] = 57\n",
    "test.loc[test.shop_id == 0, 'shop_id'] = 57\n",
    "\n",
    "train.loc[train.shop_id == 1, 'shop_id'] = 58\n",
    "test.loc[test.shop_id == 1, 'shop_id'] = 58\n",
    "\n",
    "train.loc[train.shop_id == 40, 'shop_id'] = 39\n",
    "test.loc[test.shop_id == 40, 'shop_id'] = 39"
   ]
  },
  {
   "cell_type": "markdown",
   "metadata": {},
   "source": [
    "# Create Basetable"
   ]
  },
  {
   "cell_type": "markdown",
   "metadata": {
    "papermill": {
     "duration": 0.008806,
     "end_time": "2020-09-01T15:47:18.769525",
     "exception": false,
     "start_time": "2020-09-01T15:47:18.760719",
     "status": "completed"
    },
    "tags": []
   },
   "source": [
    "Simple train dataset"
   ]
  },
  {
   "cell_type": "code",
   "execution_count": 13,
   "metadata": {
    "execution": {
     "iopub.execute_input": "2020-09-01T15:47:18.800361Z",
     "iopub.status.busy": "2020-09-01T15:47:18.799699Z",
     "iopub.status.idle": "2020-09-01T15:47:38.057489Z",
     "shell.execute_reply": "2020-09-01T15:47:38.056688Z"
    },
    "papermill": {
     "duration": 19.278803,
     "end_time": "2020-09-01T15:47:38.057609",
     "exception": false,
     "start_time": "2020-09-01T15:47:18.778806",
     "status": "completed"
    },
    "tags": []
   },
   "outputs": [
    {
     "data": {
      "text/html": [
       "<div>\n",
       "<style scoped>\n",
       "    .dataframe tbody tr th:only-of-type {\n",
       "        vertical-align: middle;\n",
       "    }\n",
       "\n",
       "    .dataframe tbody tr th {\n",
       "        vertical-align: top;\n",
       "    }\n",
       "\n",
       "    .dataframe thead th {\n",
       "        text-align: right;\n",
       "    }\n",
       "</style>\n",
       "<table border=\"1\" class=\"dataframe\">\n",
       "  <thead>\n",
       "    <tr style=\"text-align: right;\">\n",
       "      <th></th>\n",
       "      <th>shop_id</th>\n",
       "      <th>item_id</th>\n",
       "      <th>date_block_num</th>\n",
       "      <th>item_cnt_month</th>\n",
       "    </tr>\n",
       "  </thead>\n",
       "  <tbody>\n",
       "    <tr>\n",
       "      <td>0</td>\n",
       "      <td>59</td>\n",
       "      <td>22154</td>\n",
       "      <td>0</td>\n",
       "      <td>1.0</td>\n",
       "    </tr>\n",
       "    <tr>\n",
       "      <td>1</td>\n",
       "      <td>59</td>\n",
       "      <td>2552</td>\n",
       "      <td>0</td>\n",
       "      <td>0.0</td>\n",
       "    </tr>\n",
       "    <tr>\n",
       "      <td>2</td>\n",
       "      <td>59</td>\n",
       "      <td>2554</td>\n",
       "      <td>0</td>\n",
       "      <td>0.0</td>\n",
       "    </tr>\n",
       "    <tr>\n",
       "      <td>3</td>\n",
       "      <td>59</td>\n",
       "      <td>2555</td>\n",
       "      <td>0</td>\n",
       "      <td>0.0</td>\n",
       "    </tr>\n",
       "    <tr>\n",
       "      <td>4</td>\n",
       "      <td>59</td>\n",
       "      <td>2564</td>\n",
       "      <td>0</td>\n",
       "      <td>0.0</td>\n",
       "    </tr>\n",
       "  </tbody>\n",
       "</table>\n",
       "</div>"
      ],
      "text/plain": [
       "   shop_id  item_id  date_block_num  item_cnt_month\n",
       "0       59    22154               0             1.0\n",
       "1       59     2552               0             0.0\n",
       "2       59     2554               0             0.0\n",
       "3       59     2555               0             0.0\n",
       "4       59     2564               0             0.0"
      ]
     },
     "execution_count": 13,
     "metadata": {},
     "output_type": "execute_result"
    }
   ],
   "source": [
    "index_cols = ['shop_id', 'item_id', 'date_block_num']\n",
    "\n",
    "df = [] \n",
    "for block_num in train['date_block_num'].unique():\n",
    "    cur_shops = train.loc[sales['date_block_num'] == block_num, 'shop_id'].unique()\n",
    "    cur_items = train.loc[sales['date_block_num'] == block_num, 'item_id'].unique()\n",
    "    df.append(np.array(list(product(*[cur_shops, cur_items, [block_num]])),dtype='int32'))\n",
    "\n",
    "df = pd.DataFrame(np.vstack(df), columns = index_cols,dtype=np.int32)\n",
    "\n",
    "#Add month sales\n",
    "group = train.groupby(['date_block_num','shop_id','item_id']).agg({'item_cnt_day': ['sum']})\n",
    "group.columns = ['item_cnt_month']\n",
    "group.reset_index(inplace=True)\n",
    "\n",
    "df = pd.merge(df, group, on=index_cols, how='left')\n",
    "df['item_cnt_month'] = (df['item_cnt_month']\n",
    "                                .fillna(0)\n",
    "                                .clip(0,20)\n",
    "                                .astype(np.float16))\n",
    "df.head(5)"
   ]
  },
  {
   "cell_type": "markdown",
   "metadata": {
    "papermill": {
     "duration": 0.009632,
     "end_time": "2020-09-01T15:47:38.076940",
     "exception": false,
     "start_time": "2020-09-01T15:47:38.067308",
     "status": "completed"
    },
    "tags": []
   },
   "source": [
    "Add test"
   ]
  },
  {
   "cell_type": "code",
   "execution_count": 14,
   "metadata": {
    "execution": {
     "iopub.execute_input": "2020-09-01T15:47:38.104557Z",
     "iopub.status.busy": "2020-09-01T15:47:38.103906Z",
     "iopub.status.idle": "2020-09-01T15:47:38.283037Z",
     "shell.execute_reply": "2020-09-01T15:47:38.282339Z"
    },
    "papermill": {
     "duration": 0.19645,
     "end_time": "2020-09-01T15:47:38.283167",
     "exception": false,
     "start_time": "2020-09-01T15:47:38.086717",
     "status": "completed"
    },
    "tags": []
   },
   "outputs": [],
   "source": [
    "test['date_block_num'] = 34\n",
    "test['date_block_num'] = test['date_block_num'].astype(np.int8)\n",
    "test['shop_id'] = test['shop_id'].astype(np.int8)\n",
    "test['item_id'] = test['item_id'].astype(np.int16)\n",
    "df = pd.concat([df, test], ignore_index=True, sort=False, keys=index_cols)\n",
    "df.fillna(0, inplace=True)"
   ]
  },
  {
   "cell_type": "markdown",
   "metadata": {
    "_cell_guid": "79c7e3d0-c299-4dcb-8224-4455121ee9b0",
    "_uuid": "d629ff2d2480ee46fbb7e2d37f6b5fab8052498a",
    "collapsed": true,
    "papermill": {
     "duration": 0.009478,
     "end_time": "2020-09-01T15:47:38.302751",
     "exception": false,
     "start_time": "2020-09-01T15:47:38.293273",
     "status": "completed"
    },
    "tags": []
   },
   "source": [
    "# Feature engineering"
   ]
  },
  {
   "cell_type": "markdown",
   "metadata": {
    "papermill": {
     "duration": 0.009321,
     "end_time": "2020-09-01T15:47:38.322026",
     "exception": false,
     "start_time": "2020-09-01T15:47:38.312705",
     "status": "completed"
    },
    "tags": []
   },
   "source": [
    "**Shop features**\n",
    "\n",
    "* City of a shop\n",
    "* City coords\n",
    "* Country part (0-4) based on the map "
   ]
  },
  {
   "cell_type": "code",
   "execution_count": 15,
   "metadata": {
    "execution": {
     "iopub.execute_input": "2020-09-01T15:47:38.368526Z",
     "iopub.status.busy": "2020-09-01T15:47:38.367829Z",
     "iopub.status.idle": "2020-09-01T15:47:38.370859Z",
     "shell.execute_reply": "2020-09-01T15:47:38.370200Z"
    },
    "papermill": {
     "duration": 0.038983,
     "end_time": "2020-09-01T15:47:38.370982",
     "exception": false,
     "start_time": "2020-09-01T15:47:38.331999",
     "status": "completed"
    },
    "tags": []
   },
   "outputs": [],
   "source": [
    "shops['city'] = shops['shop_name'].apply(lambda x: x.split()[0].lower())\n",
    "shops.loc[shops.city == '!якутск', 'city'] = 'якутск'\n",
    "shops['city_code'] = LabelEncoder().fit_transform(shops['city'])\n",
    "\n",
    "coords = dict()\n",
    "coords['якутск'] = (62.028098, 129.732555, 4)\n",
    "coords['адыгея'] = (44.609764, 40.100516, 3)\n",
    "coords['балашиха'] = (55.8094500, 37.9580600, 1)\n",
    "coords['волжский'] = (53.4305800, 50.1190000, 3)\n",
    "coords['вологда'] = (59.2239000, 39.8839800, 2)\n",
    "coords['воронеж'] = (51.6720400, 39.1843000, 3)\n",
    "coords['выездная'] = (0, 0, 0)\n",
    "coords['жуковский'] = (55.5952800, 38.1202800, 1)\n",
    "coords['интернет-магазин'] = (0, 0, 0)\n",
    "coords['казань'] = (55.7887400, 49.1221400, 4)\n",
    "coords['калуга'] = (54.5293000, 36.2754200, 4)\n",
    "coords['коломна'] = (55.0794400, 38.7783300, 4)\n",
    "coords['красноярск'] = (56.0183900, 92.8671700, 4)\n",
    "coords['курск'] = (51.7373300, 36.1873500, 3)\n",
    "coords['москва'] = (55.7522200, 37.6155600, 1)\n",
    "coords['мытищи'] = (55.9116300, 37.7307600, 1)\n",
    "coords['н.новгород'] = (56.3286700, 44.0020500, 4)\n",
    "coords['новосибирск'] = (55.0415000, 82.9346000, 4)\n",
    "coords['омск'] = (54.9924400, 73.3685900, 4)\n",
    "coords['ростовнадону'] = (47.2313500, 39.7232800, 3)\n",
    "coords['спб'] = (59.9386300, 30.3141300, 2)\n",
    "coords['самара'] = (53.2000700, 50.1500000, 4)\n",
    "coords['сергиев'] = (56.3000000, 38.1333300, 4)\n",
    "coords['сургут'] = (61.2500000, 73.4166700, 4)\n",
    "coords['томск'] = (56.4977100, 84.9743700, 4)\n",
    "coords['тюмень'] = (57.1522200, 65.5272200, 4)\n",
    "coords['уфа'] = (54.7430600, 55.9677900, 4)\n",
    "coords['химки'] = (55.8970400, 37.4296900, 1)\n",
    "coords['цифровой'] = (0, 0, 0)\n",
    "coords['чехов'] = (55.1477000, 37.4772800, 4)\n",
    "coords['ярославль'] = (57.6298700, 39.8736800, 2) \n",
    "\n",
    "shops['city_coord_1'] = shops['city'].apply(lambda x: coords[x][0])\n",
    "shops['city_coord_2'] = shops['city'].apply(lambda x: coords[x][1])\n",
    "shops['country_part'] = shops['city'].apply(lambda x: coords[x][2])\n",
    "\n",
    "shops = shops[['shop_id', 'city_code', 'city_coord_1', 'city_coord_2', 'country_part']]"
   ]
  },
  {
   "cell_type": "code",
   "execution_count": 16,
   "metadata": {
    "execution": {
     "iopub.execute_input": "2020-09-01T15:47:38.397550Z",
     "iopub.status.busy": "2020-09-01T15:47:38.396862Z",
     "iopub.status.idle": "2020-09-01T15:47:40.084979Z",
     "shell.execute_reply": "2020-09-01T15:47:40.084395Z"
    },
    "papermill": {
     "duration": 1.704287,
     "end_time": "2020-09-01T15:47:40.085113",
     "exception": false,
     "start_time": "2020-09-01T15:47:38.380826",
     "status": "completed"
    },
    "tags": []
   },
   "outputs": [],
   "source": [
    "df = pd.merge(df, shops, on=['shop_id'], how='left')"
   ]
  },
  {
   "cell_type": "markdown",
   "metadata": {
    "papermill": {
     "duration": 0.009337,
     "end_time": "2020-09-01T15:47:40.104354",
     "exception": false,
     "start_time": "2020-09-01T15:47:40.095017",
     "status": "completed"
    },
    "tags": []
   },
   "source": [
    "**Item features**\n",
    "\n",
    "* Item category\n",
    "* More common item category"
   ]
  },
  {
   "cell_type": "code",
   "execution_count": 17,
   "metadata": {
    "execution": {
     "iopub.execute_input": "2020-09-01T15:47:40.134547Z",
     "iopub.status.busy": "2020-09-01T15:47:40.133417Z",
     "iopub.status.idle": "2020-09-01T15:47:40.176760Z",
     "shell.execute_reply": "2020-09-01T15:47:40.177261Z"
    },
    "papermill": {
     "duration": 0.063182,
     "end_time": "2020-09-01T15:47:40.177422",
     "exception": false,
     "start_time": "2020-09-01T15:47:40.114240",
     "status": "completed"
    },
    "tags": []
   },
   "outputs": [],
   "source": [
    "map_dict = {\n",
    "            'Чистые носители (штучные)': 'Чистые носители',\n",
    "            'Чистые носители (шпиль)' : 'Чистые носители',\n",
    "            'PC ': 'Аксессуары',\n",
    "            'Служебные': 'Служебные '\n",
    "            }\n",
    "\n",
    "items = pd.merge(items, item_cats, on='item_category_id')\n",
    "\n",
    "items['item_category'] = items['item_category_name'].apply(lambda x: x.split('-')[0])\n",
    "items['item_category'] = items['item_category'].apply(lambda x: map_dict[x] if x in map_dict.keys() else x)\n",
    "items['item_category_common'] = LabelEncoder().fit_transform(items['item_category'])\n",
    "\n",
    "items['item_category_code'] = LabelEncoder().fit_transform(items['item_category_name'])\n",
    "items = items[['item_id', 'item_category_common', 'item_category_code']]"
   ]
  },
  {
   "cell_type": "code",
   "execution_count": 18,
   "metadata": {
    "execution": {
     "iopub.execute_input": "2020-09-01T15:47:40.203390Z",
     "iopub.status.busy": "2020-09-01T15:47:40.202602Z",
     "iopub.status.idle": "2020-09-01T15:47:42.364675Z",
     "shell.execute_reply": "2020-09-01T15:47:42.363804Z"
    },
    "papermill": {
     "duration": 2.177101,
     "end_time": "2020-09-01T15:47:42.364814",
     "exception": false,
     "start_time": "2020-09-01T15:47:40.187713",
     "status": "completed"
    },
    "tags": []
   },
   "outputs": [],
   "source": [
    "df = pd.merge(df, items, on=['item_id'], how='left')"
   ]
  },
  {
   "cell_type": "markdown",
   "metadata": {
    "papermill": {
     "duration": 0.00947,
     "end_time": "2020-09-01T15:47:42.384405",
     "exception": false,
     "start_time": "2020-09-01T15:47:42.374935",
     "status": "completed"
    },
    "tags": []
   },
   "source": [
    "**Date features**\n",
    "\n",
    "* Weekends count (4 or 5)\n",
    "* Number of days in a month"
   ]
  },
  {
   "cell_type": "code",
   "execution_count": 19,
   "metadata": {
    "execution": {
     "iopub.execute_input": "2020-09-01T15:47:42.740880Z",
     "iopub.status.busy": "2020-09-01T15:47:42.577177Z",
     "iopub.status.idle": "2020-09-01T15:47:51.572356Z",
     "shell.execute_reply": "2020-09-01T15:47:51.571576Z"
    },
    "papermill": {
     "duration": 9.178039,
     "end_time": "2020-09-01T15:47:51.572516",
     "exception": false,
     "start_time": "2020-09-01T15:47:42.394477",
     "status": "completed"
    },
    "tags": []
   },
   "outputs": [],
   "source": [
    "def count_days(date_block_num):\n",
    "    year = 2013 + date_block_num // 12\n",
    "    month = 1 + date_block_num % 12\n",
    "    weeknd_count = len([1 for i in calendar.monthcalendar(year, month) if i[6] != 0])\n",
    "    days_in_month = calendar.monthrange(year, month)[1]\n",
    "    return weeknd_count, days_in_month, month\n",
    "\n",
    "map_dict = {i: count_days(i) for i in range(35)}\n",
    "\n",
    "df['weeknd_count'] = df['date_block_num'].apply(lambda x: map_dict[x][0])\n",
    "df['days_in_month'] = df['date_block_num'].apply(lambda x: map_dict[x][1])"
   ]
  },
  {
   "cell_type": "markdown",
   "metadata": {
    "papermill": {
     "duration": 0.011354,
     "end_time": "2020-09-01T15:47:51.595143",
     "exception": false,
     "start_time": "2020-09-01T15:47:51.583789",
     "status": "completed"
    },
    "tags": []
   },
   "source": [
    "**Interaction features**\n",
    "\n",
    "* Item is new\n",
    "* Item was bought in this shop before"
   ]
  },
  {
   "cell_type": "code",
   "execution_count": 20,
   "metadata": {
    "execution": {
     "iopub.execute_input": "2020-09-01T15:47:51.624517Z",
     "iopub.status.busy": "2020-09-01T15:47:51.623299Z",
     "iopub.status.idle": "2020-09-01T15:47:54.604544Z",
     "shell.execute_reply": "2020-09-01T15:47:54.603852Z"
    },
    "papermill": {
     "duration": 2.999168,
     "end_time": "2020-09-01T15:47:54.604681",
     "exception": false,
     "start_time": "2020-09-01T15:47:51.605513",
     "status": "completed"
    },
    "tags": []
   },
   "outputs": [],
   "source": [
    "first_item_block = df.groupby(['item_id'])['date_block_num'].min().reset_index()\n",
    "first_item_block['item_first_interaction'] = 1\n",
    "\n",
    "first_shop_item_buy_block = df[df['date_block_num'] > 0].groupby(['shop_id', 'item_id'])['date_block_num'].min().reset_index()\n",
    "first_shop_item_buy_block['first_date_block_num'] = first_shop_item_buy_block['date_block_num']"
   ]
  },
  {
   "cell_type": "code",
   "execution_count": 21,
   "metadata": {
    "execution": {
     "iopub.execute_input": "2020-09-01T15:47:54.633926Z",
     "iopub.status.busy": "2020-09-01T15:47:54.633042Z",
     "iopub.status.idle": "2020-09-01T15:48:01.327487Z",
     "shell.execute_reply": "2020-09-01T15:48:01.327975Z"
    },
    "papermill": {
     "duration": 6.713578,
     "end_time": "2020-09-01T15:48:01.328182",
     "exception": false,
     "start_time": "2020-09-01T15:47:54.614604",
     "status": "completed"
    },
    "tags": []
   },
   "outputs": [],
   "source": [
    "df = pd.merge(df, first_item_block[['item_id', 'date_block_num', 'item_first_interaction']], on=['item_id', 'date_block_num'], how='left')\n",
    "df = pd.merge(df, first_shop_item_buy_block[['item_id', 'shop_id', 'first_date_block_num']], on=['item_id', 'shop_id'], how='left')\n",
    "\n",
    "df['first_date_block_num'].fillna(100, inplace=True)\n",
    "df['shop_item_sold_before'] = (df['first_date_block_num'] < df['date_block_num']).astype('int8')\n",
    "df.drop(['first_date_block_num'], axis=1, inplace=True)\n",
    "\n",
    "df['item_first_interaction'].fillna(0, inplace=True)\n",
    "df['shop_item_sold_before'].fillna(0, inplace=True)\n",
    " \n",
    "df['item_first_interaction'] = df['item_first_interaction'].astype('int8')  \n",
    "df['shop_item_sold_before'] = df['shop_item_sold_before'].astype('int8') "
   ]
  },
  {
   "cell_type": "markdown",
   "metadata": {
    "papermill": {
     "duration": 0.009394,
     "end_time": "2020-09-01T15:48:01.347744",
     "exception": false,
     "start_time": "2020-09-01T15:48:01.338350",
     "status": "completed"
    },
    "tags": []
   },
   "source": [
    "**Basic lag features**"
   ]
  },
  {
   "cell_type": "code",
   "execution_count": 22,
   "metadata": {
    "execution": {
     "iopub.execute_input": "2020-09-01T15:48:01.375241Z",
     "iopub.status.busy": "2020-09-01T15:48:01.374434Z",
     "iopub.status.idle": "2020-09-01T15:48:01.377405Z",
     "shell.execute_reply": "2020-09-01T15:48:01.376800Z"
    },
    "papermill": {
     "duration": 0.02009,
     "end_time": "2020-09-01T15:48:01.377516",
     "exception": false,
     "start_time": "2020-09-01T15:48:01.357426",
     "status": "completed"
    },
    "tags": []
   },
   "outputs": [],
   "source": [
    "def lag_feature(df, lags, col):\n",
    "    tmp = df[['date_block_num','shop_id','item_id',col]]\n",
    "    for i in lags:\n",
    "        shifted = tmp.copy()\n",
    "        shifted.columns = ['date_block_num','shop_id','item_id', col+'_lag_'+str(i)]\n",
    "        shifted['date_block_num'] += i\n",
    "        df = pd.merge(df, shifted, on=['date_block_num','shop_id','item_id'], how='left')\n",
    "        df[col+'_lag_'+str(i)] = df[col+'_lag_'+str(i)].astype('float16')\n",
    "    return df"
   ]
  },
  {
   "cell_type": "code",
   "execution_count": 23,
   "metadata": {
    "execution": {
     "iopub.execute_input": "2020-09-01T15:48:01.402957Z",
     "iopub.status.busy": "2020-09-01T15:48:01.402264Z",
     "iopub.status.idle": "2020-09-01T15:48:24.028097Z",
     "shell.execute_reply": "2020-09-01T15:48:24.027544Z"
    },
    "papermill": {
     "duration": 22.640679,
     "end_time": "2020-09-01T15:48:24.028231",
     "exception": false,
     "start_time": "2020-09-01T15:48:01.387552",
     "status": "completed"
    },
    "tags": []
   },
   "outputs": [],
   "source": [
    "#Add sales lags for last 3 months\n",
    "df = lag_feature(df, [1, 2, 3], 'item_cnt_month')"
   ]
  },
  {
   "cell_type": "code",
   "execution_count": 24,
   "metadata": {
    "execution": {
     "iopub.execute_input": "2020-09-01T15:48:24.059397Z",
     "iopub.status.busy": "2020-09-01T15:48:24.058729Z",
     "iopub.status.idle": "2020-09-01T15:48:57.342958Z",
     "shell.execute_reply": "2020-09-01T15:48:57.343432Z"
    },
    "papermill": {
     "duration": 33.305223,
     "end_time": "2020-09-01T15:48:57.343594",
     "exception": false,
     "start_time": "2020-09-01T15:48:24.038371",
     "status": "completed"
    },
    "tags": []
   },
   "outputs": [],
   "source": [
    "#Add avg shop/item price\n",
    "\n",
    "index_cols = ['shop_id', 'item_id', 'date_block_num']\n",
    "group = train.groupby(index_cols)['item_price'].mean().reset_index().rename(columns={\"item_price\": \"avg_shop_price\"}, errors=\"raise\")\n",
    "df = pd.merge(df, group, on=index_cols, how='left')\n",
    "\n",
    "df['avg_shop_price'] = (df['avg_shop_price']\n",
    "                                .fillna(0)\n",
    "                                .astype(np.float16))\n",
    "\n",
    "index_cols = ['item_id', 'date_block_num']\n",
    "group = train.groupby(['date_block_num','item_id'])['item_price'].mean().reset_index().rename(columns={\"item_price\": \"avg_item_price\"}, errors=\"raise\")\n",
    "\n",
    "\n",
    "df = pd.merge(df, group, on=index_cols, how='left')\n",
    "df['avg_item_price'] = (df['avg_item_price']\n",
    "                                .fillna(0)\n",
    "                                .astype(np.float16))\n",
    "\n",
    "df['item_shop_price_avg'] = (df['avg_shop_price'] - df['avg_item_price']) / df['avg_item_price']\n",
    "df['item_shop_price_avg'].fillna(0, inplace=True)\n",
    "\n",
    "df = lag_feature(df, [1, 2, 3], 'item_shop_price_avg')\n",
    "df.drop(['avg_shop_price', 'avg_item_price', 'item_shop_price_avg'], axis=1, inplace=True)"
   ]
  },
  {
   "cell_type": "markdown",
   "metadata": {
    "papermill": {
     "duration": 0.009434,
     "end_time": "2020-09-01T15:48:57.363313",
     "exception": false,
     "start_time": "2020-09-01T15:48:57.353879",
     "status": "completed"
    },
    "tags": []
   },
   "source": [
    "**Target encoding**"
   ]
  },
  {
   "cell_type": "code",
   "execution_count": 25,
   "metadata": {
    "execution": {
     "iopub.execute_input": "2020-09-01T15:48:57.390717Z",
     "iopub.status.busy": "2020-09-01T15:48:57.390037Z",
     "iopub.status.idle": "2020-09-01T15:49:26.394029Z",
     "shell.execute_reply": "2020-09-01T15:49:26.392675Z"
    },
    "papermill": {
     "duration": 29.020962,
     "end_time": "2020-09-01T15:49:26.394167",
     "exception": false,
     "start_time": "2020-09-01T15:48:57.373205",
     "status": "completed"
    },
    "tags": []
   },
   "outputs": [],
   "source": [
    "#Add target encoding for items for last 3 months \n",
    "item_id_target_mean = df.groupby(['date_block_num','item_id'])['item_cnt_month'].mean().reset_index().rename(columns={\"item_cnt_month\": \"item_target_enc\"}, errors=\"raise\")\n",
    "df = pd.merge(df, item_id_target_mean, on=['date_block_num','item_id'], how='left')\n",
    "\n",
    "df['item_target_enc'] = (df['item_target_enc']\n",
    "                                .fillna(0)\n",
    "                                .astype(np.float16))\n",
    "\n",
    "df = lag_feature(df, [1, 2, 3], 'item_target_enc')\n",
    "df.drop(['item_target_enc'], axis=1, inplace=True)"
   ]
  },
  {
   "cell_type": "code",
   "execution_count": 26,
   "metadata": {
    "execution": {
     "iopub.execute_input": "2020-09-01T15:49:26.423724Z",
     "iopub.status.busy": "2020-09-01T15:49:26.422601Z",
     "iopub.status.idle": "2020-09-01T15:50:03.666585Z",
     "shell.execute_reply": "2020-09-01T15:50:03.665915Z"
    },
    "papermill": {
     "duration": 37.262131,
     "end_time": "2020-09-01T15:50:03.666722",
     "exception": false,
     "start_time": "2020-09-01T15:49:26.404591",
     "status": "completed"
    },
    "tags": []
   },
   "outputs": [],
   "source": [
    "#Add target encoding for item/city for last 3 months \n",
    "item_id_target_mean = df.groupby(['date_block_num','item_id', 'city_code'])['item_cnt_month'].mean().reset_index().rename(columns={\n",
    "    \"item_cnt_month\": \"item_loc_target_enc\"}, errors=\"raise\")\n",
    "df = pd.merge(df, item_id_target_mean, on=['date_block_num','item_id', 'city_code'], how='left')\n",
    "\n",
    "df['item_loc_target_enc'] = (df['item_loc_target_enc']\n",
    "                                .fillna(0)\n",
    "                                .astype(np.float16))\n",
    "\n",
    "df = lag_feature(df, [1, 2, 3], 'item_loc_target_enc')\n",
    "df.drop(['item_loc_target_enc'], axis=1, inplace=True)"
   ]
  },
  {
   "cell_type": "code",
   "execution_count": 27,
   "metadata": {
    "execution": {
     "iopub.execute_input": "2020-09-01T15:50:03.694944Z",
     "iopub.status.busy": "2020-09-01T15:50:03.694256Z",
     "iopub.status.idle": "2020-09-01T15:50:44.917214Z",
     "shell.execute_reply": "2020-09-01T15:50:44.916593Z"
    },
    "papermill": {
     "duration": 41.240346,
     "end_time": "2020-09-01T15:50:44.917337",
     "exception": false,
     "start_time": "2020-09-01T15:50:03.676991",
     "status": "completed"
    },
    "tags": []
   },
   "outputs": [],
   "source": [
    "#Add target encoding for item/shop for last 3 months \n",
    "item_id_target_mean = df.groupby(['date_block_num','item_id', 'shop_id'])['item_cnt_month'].mean().reset_index().rename(columns={\n",
    "    \"item_cnt_month\": \"item_shop_target_enc\"}, errors=\"raise\")\n",
    "\n",
    "df = pd.merge(df, item_id_target_mean, on=['date_block_num','item_id', 'shop_id'], how='left')\n",
    "\n",
    "df['item_shop_target_enc'] = (df['item_shop_target_enc']\n",
    "                                .fillna(0)\n",
    "                                .astype(np.float16))\n",
    "\n",
    "df = lag_feature(df, [1, 2, 3], 'item_shop_target_enc')\n",
    "df.drop(['item_shop_target_enc'], axis=1, inplace=True)"
   ]
  },
  {
   "cell_type": "markdown",
   "metadata": {
    "papermill": {
     "duration": 0.010211,
     "end_time": "2020-09-01T15:50:44.938304",
     "exception": false,
     "start_time": "2020-09-01T15:50:44.928093",
     "status": "completed"
    },
    "tags": []
   },
   "source": [
    "Extra interaction features"
   ]
  },
  {
   "cell_type": "code",
   "execution_count": 28,
   "metadata": {
    "execution": {
     "iopub.execute_input": "2020-09-01T15:50:44.967384Z",
     "iopub.status.busy": "2020-09-01T15:50:44.966599Z",
     "iopub.status.idle": "2020-09-01T15:51:16.815769Z",
     "shell.execute_reply": "2020-09-01T15:51:16.815083Z"
    },
    "papermill": {
     "duration": 31.867168,
     "end_time": "2020-09-01T15:51:16.815885",
     "exception": false,
     "start_time": "2020-09-01T15:50:44.948717",
     "status": "completed"
    },
    "tags": []
   },
   "outputs": [],
   "source": [
    "#For new items add avg category sales for last 3 months\n",
    "item_id_target_mean = df[df['item_first_interaction'] == 1].groupby(['date_block_num','item_category_code'])['item_cnt_month'].mean().reset_index().rename(columns={\n",
    "    \"item_cnt_month\": \"new_item_cat_avg\"}, errors=\"raise\")\n",
    "\n",
    "df = pd.merge(df, item_id_target_mean, on=['date_block_num','item_category_code'], how='left')\n",
    "\n",
    "df['new_item_cat_avg'] = (df['new_item_cat_avg']\n",
    "                                .fillna(0)\n",
    "                                .astype(np.float16))\n",
    "\n",
    "df = lag_feature(df, [1, 2, 3], 'new_item_cat_avg')\n",
    "df.drop(['new_item_cat_avg'], axis=1, inplace=True)"
   ]
  },
  {
   "cell_type": "code",
   "execution_count": 29,
   "metadata": {
    "execution": {
     "iopub.execute_input": "2020-09-01T15:51:16.844341Z",
     "iopub.status.busy": "2020-09-01T15:51:16.843626Z",
     "iopub.status.idle": "2020-09-01T15:51:49.636032Z",
     "shell.execute_reply": "2020-09-01T15:51:49.635417Z"
    },
    "papermill": {
     "duration": 32.809828,
     "end_time": "2020-09-01T15:51:49.636161",
     "exception": false,
     "start_time": "2020-09-01T15:51:16.826333",
     "status": "completed"
    },
    "tags": []
   },
   "outputs": [],
   "source": [
    "#For new items add avg category sales in a separate store for last 3 months\n",
    "item_id_target_mean = df[df['item_first_interaction'] == 1].groupby(['date_block_num','item_category_code', 'shop_id'])['item_cnt_month'].mean().reset_index().rename(columns={\n",
    "    \"item_cnt_month\": \"new_item_shop_cat_avg\"}, errors=\"raise\")\n",
    "\n",
    "df = pd.merge(df, item_id_target_mean, on=['date_block_num','item_category_code', 'shop_id'], how='left')\n",
    "\n",
    "df['new_item_shop_cat_avg'] = (df['new_item_shop_cat_avg']\n",
    "                                .fillna(0)\n",
    "                                .astype(np.float16))\n",
    "\n",
    "df = lag_feature(df, [1, 2, 3], 'new_item_shop_cat_avg')\n",
    "df.drop(['new_item_shop_cat_avg'], axis=1, inplace=True)"
   ]
  },
  {
   "cell_type": "markdown",
   "metadata": {
    "papermill": {
     "duration": 0.009941,
     "end_time": "2020-09-01T15:51:49.656854",
     "exception": false,
     "start_time": "2020-09-01T15:51:49.646913",
     "status": "completed"
    },
    "tags": []
   },
   "source": [
    "Add sales for the last three months for similar item (item with id = item_id - 1;\n",
    "kinda tricky feature, but increased the metric significantly)"
   ]
  },
  {
   "cell_type": "code",
   "execution_count": 30,
   "metadata": {
    "execution": {
     "iopub.execute_input": "2020-09-01T15:51:49.735740Z",
     "iopub.status.busy": "2020-09-01T15:51:49.685706Z",
     "iopub.status.idle": "2020-09-01T15:52:16.453464Z",
     "shell.execute_reply": "2020-09-01T15:52:16.452883Z"
    },
    "papermill": {
     "duration": 26.786284,
     "end_time": "2020-09-01T15:52:16.453586",
     "exception": false,
     "start_time": "2020-09-01T15:51:49.667302",
     "status": "completed"
    },
    "tags": []
   },
   "outputs": [],
   "source": [
    "def lag_feature_adv(df, lags, col):\n",
    "    tmp = df[['date_block_num','shop_id','item_id',col]]\n",
    "    for i in lags:\n",
    "        shifted = tmp.copy()\n",
    "        shifted.columns = ['date_block_num','shop_id','item_id', col+'_lag_'+str(i)+'_adv']\n",
    "        shifted['date_block_num'] += i\n",
    "        shifted['item_id'] -= 1\n",
    "        df = pd.merge(df, shifted, on=['date_block_num','shop_id','item_id'], how='left')\n",
    "        df[col+'_lag_'+str(i)+'_adv'] = df[col+'_lag_'+str(i)+'_adv'].astype('float16')\n",
    "    return df\n",
    "\n",
    "df = lag_feature_adv(df, [1, 2, 3], 'item_cnt_month')"
   ]
  },
  {
   "cell_type": "markdown",
   "metadata": {
    "papermill": {
     "duration": 0.009984,
     "end_time": "2020-09-01T15:52:16.474125",
     "exception": false,
     "start_time": "2020-09-01T15:52:16.464141",
     "status": "completed"
    },
    "tags": []
   },
   "source": [
    "Remove data for the first three months"
   ]
  },
  {
   "cell_type": "code",
   "execution_count": 31,
   "metadata": {
    "execution": {
     "iopub.execute_input": "2020-09-01T15:52:16.500095Z",
     "iopub.status.busy": "2020-09-01T15:52:16.499382Z",
     "iopub.status.idle": "2020-09-01T15:52:20.599103Z",
     "shell.execute_reply": "2020-09-01T15:52:20.598461Z"
    },
    "papermill": {
     "duration": 4.114763,
     "end_time": "2020-09-01T15:52:20.599225",
     "exception": false,
     "start_time": "2020-09-01T15:52:16.484462",
     "status": "completed"
    },
    "tags": []
   },
   "outputs": [
    {
     "data": {
      "text/html": [
       "<div>\n",
       "<style scoped>\n",
       "    .dataframe tbody tr th:only-of-type {\n",
       "        vertical-align: middle;\n",
       "    }\n",
       "\n",
       "    .dataframe tbody tr th {\n",
       "        vertical-align: top;\n",
       "    }\n",
       "\n",
       "    .dataframe thead th {\n",
       "        text-align: right;\n",
       "    }\n",
       "</style>\n",
       "<table border=\"1\" class=\"dataframe\">\n",
       "  <thead>\n",
       "    <tr style=\"text-align: right;\">\n",
       "      <th></th>\n",
       "      <th>shop_id</th>\n",
       "      <th>item_id</th>\n",
       "      <th>date_block_num</th>\n",
       "      <th>item_cnt_month</th>\n",
       "      <th>ID</th>\n",
       "      <th>city_code</th>\n",
       "      <th>city_coord_1</th>\n",
       "      <th>city_coord_2</th>\n",
       "      <th>country_part</th>\n",
       "      <th>item_category_common</th>\n",
       "      <th>...</th>\n",
       "      <th>item_shop_target_enc_lag_3</th>\n",
       "      <th>new_item_cat_avg_lag_1</th>\n",
       "      <th>new_item_cat_avg_lag_2</th>\n",
       "      <th>new_item_cat_avg_lag_3</th>\n",
       "      <th>new_item_shop_cat_avg_lag_1</th>\n",
       "      <th>new_item_shop_cat_avg_lag_2</th>\n",
       "      <th>new_item_shop_cat_avg_lag_3</th>\n",
       "      <th>item_cnt_month_lag_1_adv</th>\n",
       "      <th>item_cnt_month_lag_2_adv</th>\n",
       "      <th>item_cnt_month_lag_3_adv</th>\n",
       "    </tr>\n",
       "  </thead>\n",
       "  <tbody>\n",
       "    <tr>\n",
       "      <td>1122795</td>\n",
       "      <td>25</td>\n",
       "      <td>8092</td>\n",
       "      <td>3</td>\n",
       "      <td>3.0</td>\n",
       "      <td>0.0</td>\n",
       "      <td>13</td>\n",
       "      <td>55.75222</td>\n",
       "      <td>37.61556</td>\n",
       "      <td>1</td>\n",
       "      <td>11</td>\n",
       "      <td>...</td>\n",
       "      <td>4.0</td>\n",
       "      <td>0.643066</td>\n",
       "      <td>0.517578</td>\n",
       "      <td>0.293945</td>\n",
       "      <td>1.996094</td>\n",
       "      <td>1.446289</td>\n",
       "      <td>0.891113</td>\n",
       "      <td>7.0</td>\n",
       "      <td>5.0</td>\n",
       "      <td>13.0</td>\n",
       "    </tr>\n",
       "    <tr>\n",
       "      <td>1122796</td>\n",
       "      <td>25</td>\n",
       "      <td>7850</td>\n",
       "      <td>3</td>\n",
       "      <td>3.0</td>\n",
       "      <td>0.0</td>\n",
       "      <td>13</td>\n",
       "      <td>55.75222</td>\n",
       "      <td>37.61556</td>\n",
       "      <td>1</td>\n",
       "      <td>8</td>\n",
       "      <td>...</td>\n",
       "      <td>6.0</td>\n",
       "      <td>3.351562</td>\n",
       "      <td>0.745605</td>\n",
       "      <td>1.126953</td>\n",
       "      <td>4.867188</td>\n",
       "      <td>0.898438</td>\n",
       "      <td>1.947266</td>\n",
       "      <td>0.0</td>\n",
       "      <td>0.0</td>\n",
       "      <td>0.0</td>\n",
       "    </tr>\n",
       "    <tr>\n",
       "      <td>1122797</td>\n",
       "      <td>25</td>\n",
       "      <td>8051</td>\n",
       "      <td>3</td>\n",
       "      <td>3.0</td>\n",
       "      <td>0.0</td>\n",
       "      <td>13</td>\n",
       "      <td>55.75222</td>\n",
       "      <td>37.61556</td>\n",
       "      <td>1</td>\n",
       "      <td>14</td>\n",
       "      <td>...</td>\n",
       "      <td>0.0</td>\n",
       "      <td>0.027664</td>\n",
       "      <td>0.036224</td>\n",
       "      <td>0.160645</td>\n",
       "      <td>0.000000</td>\n",
       "      <td>0.416748</td>\n",
       "      <td>1.019531</td>\n",
       "      <td>0.0</td>\n",
       "      <td>0.0</td>\n",
       "      <td>0.0</td>\n",
       "    </tr>\n",
       "    <tr>\n",
       "      <td>1122798</td>\n",
       "      <td>25</td>\n",
       "      <td>8088</td>\n",
       "      <td>3</td>\n",
       "      <td>1.0</td>\n",
       "      <td>0.0</td>\n",
       "      <td>13</td>\n",
       "      <td>55.75222</td>\n",
       "      <td>37.61556</td>\n",
       "      <td>1</td>\n",
       "      <td>13</td>\n",
       "      <td>...</td>\n",
       "      <td>0.0</td>\n",
       "      <td>0.333252</td>\n",
       "      <td>0.108521</td>\n",
       "      <td>0.208130</td>\n",
       "      <td>1.000000</td>\n",
       "      <td>0.303955</td>\n",
       "      <td>0.534668</td>\n",
       "      <td>0.0</td>\n",
       "      <td>1.0</td>\n",
       "      <td>0.0</td>\n",
       "    </tr>\n",
       "    <tr>\n",
       "      <td>1122799</td>\n",
       "      <td>25</td>\n",
       "      <td>8089</td>\n",
       "      <td>3</td>\n",
       "      <td>1.0</td>\n",
       "      <td>0.0</td>\n",
       "      <td>13</td>\n",
       "      <td>55.75222</td>\n",
       "      <td>37.61556</td>\n",
       "      <td>1</td>\n",
       "      <td>13</td>\n",
       "      <td>...</td>\n",
       "      <td>0.0</td>\n",
       "      <td>0.333252</td>\n",
       "      <td>0.108521</td>\n",
       "      <td>0.208130</td>\n",
       "      <td>1.000000</td>\n",
       "      <td>0.303955</td>\n",
       "      <td>0.534668</td>\n",
       "      <td>2.0</td>\n",
       "      <td>0.0</td>\n",
       "      <td>3.0</td>\n",
       "    </tr>\n",
       "  </tbody>\n",
       "</table>\n",
       "<p>5 rows × 39 columns</p>\n",
       "</div>"
      ],
      "text/plain": [
       "         shop_id  item_id  date_block_num  item_cnt_month   ID  city_code  \\\n",
       "1122795       25     8092               3             3.0  0.0         13   \n",
       "1122796       25     7850               3             3.0  0.0         13   \n",
       "1122797       25     8051               3             3.0  0.0         13   \n",
       "1122798       25     8088               3             1.0  0.0         13   \n",
       "1122799       25     8089               3             1.0  0.0         13   \n",
       "\n",
       "         city_coord_1  city_coord_2  country_part  item_category_common  ...  \\\n",
       "1122795      55.75222      37.61556             1                    11  ...   \n",
       "1122796      55.75222      37.61556             1                     8  ...   \n",
       "1122797      55.75222      37.61556             1                    14  ...   \n",
       "1122798      55.75222      37.61556             1                    13  ...   \n",
       "1122799      55.75222      37.61556             1                    13  ...   \n",
       "\n",
       "         item_shop_target_enc_lag_3  new_item_cat_avg_lag_1  \\\n",
       "1122795                         4.0                0.643066   \n",
       "1122796                         6.0                3.351562   \n",
       "1122797                         0.0                0.027664   \n",
       "1122798                         0.0                0.333252   \n",
       "1122799                         0.0                0.333252   \n",
       "\n",
       "         new_item_cat_avg_lag_2  new_item_cat_avg_lag_3  \\\n",
       "1122795                0.517578                0.293945   \n",
       "1122796                0.745605                1.126953   \n",
       "1122797                0.036224                0.160645   \n",
       "1122798                0.108521                0.208130   \n",
       "1122799                0.108521                0.208130   \n",
       "\n",
       "         new_item_shop_cat_avg_lag_1  new_item_shop_cat_avg_lag_2  \\\n",
       "1122795                     1.996094                     1.446289   \n",
       "1122796                     4.867188                     0.898438   \n",
       "1122797                     0.000000                     0.416748   \n",
       "1122798                     1.000000                     0.303955   \n",
       "1122799                     1.000000                     0.303955   \n",
       "\n",
       "         new_item_shop_cat_avg_lag_3  item_cnt_month_lag_1_adv  \\\n",
       "1122795                     0.891113                       7.0   \n",
       "1122796                     1.947266                       0.0   \n",
       "1122797                     1.019531                       0.0   \n",
       "1122798                     0.534668                       0.0   \n",
       "1122799                     0.534668                       2.0   \n",
       "\n",
       "         item_cnt_month_lag_2_adv  item_cnt_month_lag_3_adv  \n",
       "1122795                       5.0                      13.0  \n",
       "1122796                       0.0                       0.0  \n",
       "1122797                       0.0                       0.0  \n",
       "1122798                       1.0                       0.0  \n",
       "1122799                       0.0                       3.0  \n",
       "\n",
       "[5 rows x 39 columns]"
      ]
     },
     "execution_count": 31,
     "metadata": {},
     "output_type": "execute_result"
    }
   ],
   "source": [
    "df.fillna(0, inplace=True)\n",
    "df = df[(df['date_block_num'] > 2)]\n",
    "df.head()"
   ]
  },
  {
   "cell_type": "code",
   "execution_count": 32,
   "metadata": {
    "execution": {
     "iopub.execute_input": "2020-09-01T15:52:20.627033Z",
     "iopub.status.busy": "2020-09-01T15:52:20.626045Z",
     "iopub.status.idle": "2020-09-01T15:52:20.629750Z",
     "shell.execute_reply": "2020-09-01T15:52:20.629261Z"
    },
    "papermill": {
     "duration": 0.01963,
     "end_time": "2020-09-01T15:52:20.629864",
     "exception": false,
     "start_time": "2020-09-01T15:52:20.610234",
     "status": "completed"
    },
    "tags": []
   },
   "outputs": [
    {
     "data": {
      "text/plain": [
       "Index(['shop_id', 'item_id', 'date_block_num', 'item_cnt_month', 'ID',\n",
       "       'city_code', 'city_coord_1', 'city_coord_2', 'country_part',\n",
       "       'item_category_common', 'item_category_code', 'weeknd_count',\n",
       "       'days_in_month', 'item_first_interaction', 'shop_item_sold_before',\n",
       "       'item_cnt_month_lag_1', 'item_cnt_month_lag_2', 'item_cnt_month_lag_3',\n",
       "       'item_shop_price_avg_lag_1', 'item_shop_price_avg_lag_2',\n",
       "       'item_shop_price_avg_lag_3', 'item_target_enc_lag_1',\n",
       "       'item_target_enc_lag_2', 'item_target_enc_lag_3',\n",
       "       'item_loc_target_enc_lag_1', 'item_loc_target_enc_lag_2',\n",
       "       'item_loc_target_enc_lag_3', 'item_shop_target_enc_lag_1',\n",
       "       'item_shop_target_enc_lag_2', 'item_shop_target_enc_lag_3',\n",
       "       'new_item_cat_avg_lag_1', 'new_item_cat_avg_lag_2',\n",
       "       'new_item_cat_avg_lag_3', 'new_item_shop_cat_avg_lag_1',\n",
       "       'new_item_shop_cat_avg_lag_2', 'new_item_shop_cat_avg_lag_3',\n",
       "       'item_cnt_month_lag_1_adv', 'item_cnt_month_lag_2_adv',\n",
       "       'item_cnt_month_lag_3_adv'],\n",
       "      dtype='object')"
      ]
     },
     "execution_count": 32,
     "metadata": {},
     "output_type": "execute_result"
    }
   ],
   "source": [
    "df.columns"
   ]
  },
  {
   "cell_type": "code",
   "execution_count": 33,
   "metadata": {
    "execution": {
     "iopub.execute_input": "2020-09-01T15:52:20.704261Z",
     "iopub.status.busy": "2020-09-01T15:52:20.702797Z",
     "iopub.status.idle": "2020-09-01T15:52:24.698185Z",
     "shell.execute_reply": "2020-09-01T15:52:24.697440Z"
    },
    "papermill": {
     "duration": 4.057277,
     "end_time": "2020-09-01T15:52:24.698346",
     "exception": false,
     "start_time": "2020-09-01T15:52:20.641069",
     "status": "completed"
    },
    "tags": []
   },
   "outputs": [],
   "source": [
    "#Save dataset\n",
    "df.drop(['ID'], axis=1, inplace=True, errors='ignore')\n",
    "df.to_pickle('df.pkl')"
   ]
  },
  {
   "cell_type": "markdown",
   "metadata": {
    "papermill": {
     "duration": 0.010537,
     "end_time": "2020-09-01T15:52:24.720196",
     "exception": false,
     "start_time": "2020-09-01T15:52:24.709659",
     "status": "completed"
    },
    "tags": []
   },
   "source": [
    "# Train model"
   ]
  },
  {
   "cell_type": "code",
   "execution_count": 34,
   "metadata": {
    "execution": {
     "iopub.execute_input": "2020-09-01T15:52:24.751975Z",
     "iopub.status.busy": "2020-09-01T15:52:24.750951Z",
     "iopub.status.idle": "2020-09-01T15:52:26.592609Z",
     "shell.execute_reply": "2020-09-01T15:52:26.592035Z"
    },
    "papermill": {
     "duration": 1.861446,
     "end_time": "2020-09-01T15:52:26.592745",
     "exception": false,
     "start_time": "2020-09-01T15:52:24.731299",
     "status": "completed"
    },
    "tags": []
   },
   "outputs": [
    {
     "name": "stdout",
     "output_type": "stream",
     "text": [
      "<class 'pandas.core.frame.DataFrame'>\n",
      "Int64Index: 9933482 entries, 1122795 to 11056276\n",
      "Data columns (total 38 columns):\n",
      "shop_id                        int32\n",
      "item_id                        int32\n",
      "date_block_num                 int32\n",
      "item_cnt_month                 float16\n",
      "city_code                      int32\n",
      "city_coord_1                   float64\n",
      "city_coord_2                   float64\n",
      "country_part                   int64\n",
      "item_category_common           int32\n",
      "item_category_code             int32\n",
      "weeknd_count                   int64\n",
      "days_in_month                  int64\n",
      "item_first_interaction         int8\n",
      "shop_item_sold_before          int8\n",
      "item_cnt_month_lag_1           float16\n",
      "item_cnt_month_lag_2           float16\n",
      "item_cnt_month_lag_3           float16\n",
      "item_shop_price_avg_lag_1      float16\n",
      "item_shop_price_avg_lag_2      float16\n",
      "item_shop_price_avg_lag_3      float16\n",
      "item_target_enc_lag_1          float16\n",
      "item_target_enc_lag_2          float16\n",
      "item_target_enc_lag_3          float16\n",
      "item_loc_target_enc_lag_1      float16\n",
      "item_loc_target_enc_lag_2      float16\n",
      "item_loc_target_enc_lag_3      float16\n",
      "item_shop_target_enc_lag_1     float16\n",
      "item_shop_target_enc_lag_2     float16\n",
      "item_shop_target_enc_lag_3     float16\n",
      "new_item_cat_avg_lag_1         float16\n",
      "new_item_cat_avg_lag_2         float16\n",
      "new_item_cat_avg_lag_3         float16\n",
      "new_item_shop_cat_avg_lag_1    float16\n",
      "new_item_shop_cat_avg_lag_2    float16\n",
      "new_item_shop_cat_avg_lag_3    float16\n",
      "item_cnt_month_lag_1_adv       float16\n",
      "item_cnt_month_lag_2_adv       float16\n",
      "item_cnt_month_lag_3_adv       float16\n",
      "dtypes: float16(25), float64(2), int32(6), int64(3), int8(2)\n",
      "memory usage: 1.1 GB\n"
     ]
    }
   ],
   "source": [
    "df = pd.read_pickle('df.pkl')\n",
    "df.info()"
   ]
  },
  {
   "cell_type": "code",
   "execution_count": 35,
   "metadata": {
    "execution": {
     "iopub.execute_input": "2020-09-01T15:52:26.621603Z",
     "iopub.status.busy": "2020-09-01T15:52:26.620954Z",
     "iopub.status.idle": "2020-09-01T15:52:30.254477Z",
     "shell.execute_reply": "2020-09-01T15:52:30.253479Z"
    },
    "papermill": {
     "duration": 3.650725,
     "end_time": "2020-09-01T15:52:30.254694",
     "exception": false,
     "start_time": "2020-09-01T15:52:26.603969",
     "status": "completed"
    },
    "tags": []
   },
   "outputs": [],
   "source": [
    "X_train = df[df.date_block_num < 33].drop(['item_cnt_month'], axis=1)\n",
    "Y_train = df[df.date_block_num < 33]['item_cnt_month']\n",
    "X_valid = df[df.date_block_num == 33].drop(['item_cnt_month'], axis=1)\n",
    "Y_valid = df[df.date_block_num == 33]['item_cnt_month']\n",
    "X_test = df[df.date_block_num == 34].drop(['item_cnt_month'], axis=1)\n",
    "del df"
   ]
  },
  {
   "cell_type": "code",
   "execution_count": 36,
   "metadata": {
    "execution": {
     "iopub.execute_input": "2020-09-01T15:52:30.715042Z",
     "iopub.status.busy": "2020-09-01T15:52:30.651077Z",
     "iopub.status.idle": "2020-09-01T16:25:49.805487Z",
     "shell.execute_reply": "2020-09-01T16:25:49.806245Z"
    },
    "papermill": {
     "duration": 1999.470408,
     "end_time": "2020-09-01T16:25:49.806447",
     "exception": false,
     "start_time": "2020-09-01T15:52:30.336039",
     "status": "completed"
    },
    "scrolled": false,
    "tags": []
   },
   "outputs": [
    {
     "name": "stderr",
     "output_type": "stream",
     "text": [
      "C:\\anaconda3\\lib\\site-packages\\lightgbm\\basic.py:1555: UserWarning: categorical_feature in Dataset is overridden.\n",
      "New categorical_feature is ['city_code', 'country_part', 'item_category_code', 'item_category_common']\n",
      "  'New categorical_feature is {}'.format(sorted(list(categorical_feature))))\n"
     ]
    },
    {
     "name": "stdout",
     "output_type": "stream",
     "text": [
      "[LightGBM] [Warning] Auto-choosing row-wise multi-threading, the overhead of testing was 0.825811 seconds.\n",
      "You can set `force_row_wise=true` to remove the overhead.\n",
      "And if memory is not enough, you can set `force_col_wise=true`.\n",
      "[LightGBM] [Info] Total Bins 4397\n",
      "[LightGBM] [Info] Number of data points in the train set: 9481110, number of used features: 37\n"
     ]
    },
    {
     "name": "stderr",
     "output_type": "stream",
     "text": [
      "C:\\anaconda3\\lib\\site-packages\\lightgbm\\basic.py:1286: UserWarning: Overriding the parameters from Reference Dataset.\n",
      "  warnings.warn('Overriding the parameters from Reference Dataset.')\n",
      "C:\\anaconda3\\lib\\site-packages\\lightgbm\\basic.py:1098: UserWarning: categorical_column in param dict is overridden.\n",
      "  warnings.warn('{} in param dict is overridden.'.format(cat_alias))\n"
     ]
    },
    {
     "name": "stdout",
     "output_type": "stream",
     "text": [
      "[LightGBM] [Info] Start training from score 0.296231\n",
      "Training until validation scores don't improve for 100 rounds\n",
      "[5]\ttraining's rmse: 1.20369\tvalid_1's rmse: 1.12732\n",
      "[10]\ttraining's rmse: 1.19106\tvalid_1's rmse: 1.11749\n",
      "[15]\ttraining's rmse: 1.17891\tvalid_1's rmse: 1.10819\n",
      "[20]\ttraining's rmse: 1.167\tvalid_1's rmse: 1.09907\n",
      "[25]\ttraining's rmse: 1.15587\tvalid_1's rmse: 1.09053\n",
      "[30]\ttraining's rmse: 1.14521\tvalid_1's rmse: 1.08236\n",
      "[35]\ttraining's rmse: 1.13485\tvalid_1's rmse: 1.07448\n",
      "[40]\ttraining's rmse: 1.12466\tvalid_1's rmse: 1.06692\n",
      "[45]\ttraining's rmse: 1.11484\tvalid_1's rmse: 1.05944\n",
      "[50]\ttraining's rmse: 1.10591\tvalid_1's rmse: 1.05313\n",
      "[55]\ttraining's rmse: 1.09678\tvalid_1's rmse: 1.04638\n",
      "[60]\ttraining's rmse: 1.08828\tvalid_1's rmse: 1.04033\n",
      "[65]\ttraining's rmse: 1.08022\tvalid_1's rmse: 1.03459\n",
      "[70]\ttraining's rmse: 1.07231\tvalid_1's rmse: 1.02894\n",
      "[75]\ttraining's rmse: 1.0647\tvalid_1's rmse: 1.02338\n",
      "[80]\ttraining's rmse: 1.05741\tvalid_1's rmse: 1.01808\n",
      "[85]\ttraining's rmse: 1.05038\tvalid_1's rmse: 1.0132\n",
      "[90]\ttraining's rmse: 1.04348\tvalid_1's rmse: 1.00823\n",
      "[95]\ttraining's rmse: 1.03687\tvalid_1's rmse: 1.00349\n",
      "[100]\ttraining's rmse: 1.03029\tvalid_1's rmse: 0.998857\n",
      "[105]\ttraining's rmse: 1.02423\tvalid_1's rmse: 0.994709\n",
      "[110]\ttraining's rmse: 1.01855\tvalid_1's rmse: 0.990922\n",
      "[115]\ttraining's rmse: 1.01308\tvalid_1's rmse: 0.987177\n",
      "[120]\ttraining's rmse: 1.00753\tvalid_1's rmse: 0.983396\n",
      "[125]\ttraining's rmse: 1.00221\tvalid_1's rmse: 0.97974\n",
      "[130]\ttraining's rmse: 0.996848\tvalid_1's rmse: 0.976514\n",
      "[135]\ttraining's rmse: 0.991829\tvalid_1's rmse: 0.973056\n",
      "[140]\ttraining's rmse: 0.987175\tvalid_1's rmse: 0.970029\n",
      "[145]\ttraining's rmse: 0.98272\tvalid_1's rmse: 0.96714\n",
      "[150]\ttraining's rmse: 0.978185\tvalid_1's rmse: 0.963891\n",
      "[155]\ttraining's rmse: 0.973962\tvalid_1's rmse: 0.961061\n",
      "[160]\ttraining's rmse: 0.969992\tvalid_1's rmse: 0.958413\n",
      "[165]\ttraining's rmse: 0.966086\tvalid_1's rmse: 0.955985\n",
      "[170]\ttraining's rmse: 0.962212\tvalid_1's rmse: 0.953546\n",
      "[175]\ttraining's rmse: 0.958547\tvalid_1's rmse: 0.951291\n",
      "[180]\ttraining's rmse: 0.95499\tvalid_1's rmse: 0.94924\n",
      "[185]\ttraining's rmse: 0.951593\tvalid_1's rmse: 0.947084\n",
      "[190]\ttraining's rmse: 0.948228\tvalid_1's rmse: 0.944817\n",
      "[195]\ttraining's rmse: 0.945086\tvalid_1's rmse: 0.942834\n",
      "[200]\ttraining's rmse: 0.942138\tvalid_1's rmse: 0.941076\n",
      "[205]\ttraining's rmse: 0.939052\tvalid_1's rmse: 0.939178\n",
      "[210]\ttraining's rmse: 0.936265\tvalid_1's rmse: 0.937451\n",
      "[215]\ttraining's rmse: 0.933507\tvalid_1's rmse: 0.935718\n",
      "[220]\ttraining's rmse: 0.930884\tvalid_1's rmse: 0.934247\n",
      "[225]\ttraining's rmse: 0.928256\tvalid_1's rmse: 0.932667\n",
      "[230]\ttraining's rmse: 0.925795\tvalid_1's rmse: 0.931251\n",
      "[235]\ttraining's rmse: 0.923377\tvalid_1's rmse: 0.929964\n",
      "[240]\ttraining's rmse: 0.921089\tvalid_1's rmse: 0.928489\n",
      "[245]\ttraining's rmse: 0.918991\tvalid_1's rmse: 0.927361\n",
      "[250]\ttraining's rmse: 0.916823\tvalid_1's rmse: 0.92611\n",
      "[255]\ttraining's rmse: 0.914696\tvalid_1's rmse: 0.925001\n",
      "[260]\ttraining's rmse: 0.912581\tvalid_1's rmse: 0.923928\n",
      "[265]\ttraining's rmse: 0.910784\tvalid_1's rmse: 0.922913\n",
      "[270]\ttraining's rmse: 0.908904\tvalid_1's rmse: 0.922084\n",
      "[275]\ttraining's rmse: 0.907165\tvalid_1's rmse: 0.921196\n",
      "[280]\ttraining's rmse: 0.905428\tvalid_1's rmse: 0.920258\n",
      "[285]\ttraining's rmse: 0.903739\tvalid_1's rmse: 0.919649\n",
      "[290]\ttraining's rmse: 0.902028\tvalid_1's rmse: 0.918649\n",
      "[295]\ttraining's rmse: 0.900346\tvalid_1's rmse: 0.917641\n",
      "[300]\ttraining's rmse: 0.898752\tvalid_1's rmse: 0.91692\n",
      "[305]\ttraining's rmse: 0.897216\tvalid_1's rmse: 0.916179\n",
      "[310]\ttraining's rmse: 0.895692\tvalid_1's rmse: 0.915487\n",
      "[315]\ttraining's rmse: 0.894254\tvalid_1's rmse: 0.914832\n",
      "[320]\ttraining's rmse: 0.892745\tvalid_1's rmse: 0.914011\n",
      "[325]\ttraining's rmse: 0.891304\tvalid_1's rmse: 0.913477\n",
      "[330]\ttraining's rmse: 0.890014\tvalid_1's rmse: 0.912818\n",
      "[335]\ttraining's rmse: 0.888801\tvalid_1's rmse: 0.912269\n",
      "[340]\ttraining's rmse: 0.887502\tvalid_1's rmse: 0.911805\n",
      "[345]\ttraining's rmse: 0.886353\tvalid_1's rmse: 0.911158\n",
      "[350]\ttraining's rmse: 0.885072\tvalid_1's rmse: 0.910525\n",
      "[355]\ttraining's rmse: 0.883862\tvalid_1's rmse: 0.910103\n",
      "[360]\ttraining's rmse: 0.882822\tvalid_1's rmse: 0.909689\n",
      "[365]\ttraining's rmse: 0.881688\tvalid_1's rmse: 0.909335\n",
      "[370]\ttraining's rmse: 0.88038\tvalid_1's rmse: 0.908635\n",
      "[375]\ttraining's rmse: 0.879332\tvalid_1's rmse: 0.908172\n",
      "[380]\ttraining's rmse: 0.87828\tvalid_1's rmse: 0.907841\n",
      "[385]\ttraining's rmse: 0.87728\tvalid_1's rmse: 0.907631\n",
      "[390]\ttraining's rmse: 0.876154\tvalid_1's rmse: 0.907413\n",
      "[395]\ttraining's rmse: 0.87515\tvalid_1's rmse: 0.907068\n",
      "[400]\ttraining's rmse: 0.874082\tvalid_1's rmse: 0.906685\n",
      "[405]\ttraining's rmse: 0.873207\tvalid_1's rmse: 0.90641\n",
      "[410]\ttraining's rmse: 0.872267\tvalid_1's rmse: 0.906064\n",
      "[415]\ttraining's rmse: 0.871388\tvalid_1's rmse: 0.905768\n",
      "[420]\ttraining's rmse: 0.870542\tvalid_1's rmse: 0.905337\n",
      "[425]\ttraining's rmse: 0.869513\tvalid_1's rmse: 0.905371\n",
      "[430]\ttraining's rmse: 0.868711\tvalid_1's rmse: 0.905283\n",
      "[435]\ttraining's rmse: 0.867796\tvalid_1's rmse: 0.905009\n",
      "[440]\ttraining's rmse: 0.867016\tvalid_1's rmse: 0.904785\n",
      "[445]\ttraining's rmse: 0.866146\tvalid_1's rmse: 0.90454\n",
      "[450]\ttraining's rmse: 0.865296\tvalid_1's rmse: 0.904234\n",
      "[455]\ttraining's rmse: 0.864458\tvalid_1's rmse: 0.904014\n",
      "[460]\ttraining's rmse: 0.863745\tvalid_1's rmse: 0.903737\n",
      "[465]\ttraining's rmse: 0.863017\tvalid_1's rmse: 0.903552\n",
      "[470]\ttraining's rmse: 0.862277\tvalid_1's rmse: 0.903191\n",
      "[475]\ttraining's rmse: 0.86149\tvalid_1's rmse: 0.90291\n",
      "[480]\ttraining's rmse: 0.860779\tvalid_1's rmse: 0.902848\n",
      "[485]\ttraining's rmse: 0.860028\tvalid_1's rmse: 0.902786\n",
      "[490]\ttraining's rmse: 0.859377\tvalid_1's rmse: 0.902607\n",
      "[495]\ttraining's rmse: 0.858688\tvalid_1's rmse: 0.902342\n",
      "[500]\ttraining's rmse: 0.857994\tvalid_1's rmse: 0.902206\n",
      "[505]\ttraining's rmse: 0.85736\tvalid_1's rmse: 0.902059\n",
      "[510]\ttraining's rmse: 0.856787\tvalid_1's rmse: 0.90188\n",
      "[515]\ttraining's rmse: 0.856158\tvalid_1's rmse: 0.901644\n",
      "[520]\ttraining's rmse: 0.855574\tvalid_1's rmse: 0.901494\n",
      "[525]\ttraining's rmse: 0.854911\tvalid_1's rmse: 0.901229\n",
      "[530]\ttraining's rmse: 0.854309\tvalid_1's rmse: 0.901073\n",
      "[535]\ttraining's rmse: 0.85373\tvalid_1's rmse: 0.900833\n",
      "[540]\ttraining's rmse: 0.853097\tvalid_1's rmse: 0.900669\n",
      "[545]\ttraining's rmse: 0.852525\tvalid_1's rmse: 0.900409\n",
      "[550]\ttraining's rmse: 0.851909\tvalid_1's rmse: 0.90038\n",
      "[555]\ttraining's rmse: 0.851385\tvalid_1's rmse: 0.900212\n",
      "[560]\ttraining's rmse: 0.850848\tvalid_1's rmse: 0.900044\n",
      "[565]\ttraining's rmse: 0.850345\tvalid_1's rmse: 0.899966\n",
      "[570]\ttraining's rmse: 0.849742\tvalid_1's rmse: 0.89993\n",
      "[575]\ttraining's rmse: 0.849229\tvalid_1's rmse: 0.899635\n",
      "[580]\ttraining's rmse: 0.848666\tvalid_1's rmse: 0.899273\n",
      "[585]\ttraining's rmse: 0.848104\tvalid_1's rmse: 0.899167\n",
      "[590]\ttraining's rmse: 0.847682\tvalid_1's rmse: 0.899015\n",
      "[595]\ttraining's rmse: 0.847171\tvalid_1's rmse: 0.898839\n",
      "[600]\ttraining's rmse: 0.846685\tvalid_1's rmse: 0.898723\n",
      "[605]\ttraining's rmse: 0.846216\tvalid_1's rmse: 0.898605\n",
      "[610]\ttraining's rmse: 0.845751\tvalid_1's rmse: 0.898459\n",
      "[615]\ttraining's rmse: 0.845304\tvalid_1's rmse: 0.898311\n",
      "[620]\ttraining's rmse: 0.844845\tvalid_1's rmse: 0.898215\n",
      "[625]\ttraining's rmse: 0.844382\tvalid_1's rmse: 0.898159\n",
      "[630]\ttraining's rmse: 0.843903\tvalid_1's rmse: 0.898122\n",
      "[635]\ttraining's rmse: 0.843414\tvalid_1's rmse: 0.898036\n",
      "[640]\ttraining's rmse: 0.842928\tvalid_1's rmse: 0.897995\n",
      "[645]\ttraining's rmse: 0.842452\tvalid_1's rmse: 0.897951\n",
      "[650]\ttraining's rmse: 0.842026\tvalid_1's rmse: 0.897826\n",
      "[655]\ttraining's rmse: 0.841621\tvalid_1's rmse: 0.897741\n",
      "[660]\ttraining's rmse: 0.841206\tvalid_1's rmse: 0.897684\n",
      "[665]\ttraining's rmse: 0.8408\tvalid_1's rmse: 0.897665\n",
      "[670]\ttraining's rmse: 0.840367\tvalid_1's rmse: 0.897596\n",
      "[675]\ttraining's rmse: 0.839938\tvalid_1's rmse: 0.89756\n",
      "[680]\ttraining's rmse: 0.839532\tvalid_1's rmse: 0.897402\n",
      "[685]\ttraining's rmse: 0.83915\tvalid_1's rmse: 0.897316\n",
      "[690]\ttraining's rmse: 0.838748\tvalid_1's rmse: 0.897243\n",
      "[695]\ttraining's rmse: 0.838349\tvalid_1's rmse: 0.897143\n",
      "[700]\ttraining's rmse: 0.837949\tvalid_1's rmse: 0.897058\n",
      "[705]\ttraining's rmse: 0.837559\tvalid_1's rmse: 0.897028\n",
      "[710]\ttraining's rmse: 0.837173\tvalid_1's rmse: 0.896899\n",
      "[715]\ttraining's rmse: 0.836726\tvalid_1's rmse: 0.896922\n",
      "[720]\ttraining's rmse: 0.836293\tvalid_1's rmse: 0.896939\n",
      "[725]\ttraining's rmse: 0.835945\tvalid_1's rmse: 0.896931\n",
      "[730]\ttraining's rmse: 0.835562\tvalid_1's rmse: 0.896968\n",
      "[735]\ttraining's rmse: 0.835177\tvalid_1's rmse: 0.896854\n",
      "[740]\ttraining's rmse: 0.834786\tvalid_1's rmse: 0.896772\n",
      "[745]\ttraining's rmse: 0.834415\tvalid_1's rmse: 0.896703\n",
      "[750]\ttraining's rmse: 0.834087\tvalid_1's rmse: 0.896672\n",
      "[755]\ttraining's rmse: 0.833658\tvalid_1's rmse: 0.896716\n",
      "[760]\ttraining's rmse: 0.83332\tvalid_1's rmse: 0.896655\n",
      "[765]\ttraining's rmse: 0.83292\tvalid_1's rmse: 0.896691\n",
      "[770]\ttraining's rmse: 0.832564\tvalid_1's rmse: 0.896636\n",
      "[775]\ttraining's rmse: 0.83222\tvalid_1's rmse: 0.896601\n",
      "[780]\ttraining's rmse: 0.831888\tvalid_1's rmse: 0.896312\n",
      "[785]\ttraining's rmse: 0.831553\tvalid_1's rmse: 0.896142\n",
      "[790]\ttraining's rmse: 0.831232\tvalid_1's rmse: 0.89625\n",
      "[795]\ttraining's rmse: 0.830933\tvalid_1's rmse: 0.896254\n",
      "[800]\ttraining's rmse: 0.830613\tvalid_1's rmse: 0.896131\n",
      "[805]\ttraining's rmse: 0.83028\tvalid_1's rmse: 0.896313\n",
      "[810]\ttraining's rmse: 0.829924\tvalid_1's rmse: 0.896245\n",
      "[815]\ttraining's rmse: 0.829641\tvalid_1's rmse: 0.896218\n",
      "[820]\ttraining's rmse: 0.829317\tvalid_1's rmse: 0.896213\n",
      "[825]\ttraining's rmse: 0.829023\tvalid_1's rmse: 0.896137\n",
      "[830]\ttraining's rmse: 0.828728\tvalid_1's rmse: 0.89618\n",
      "[835]\ttraining's rmse: 0.82838\tvalid_1's rmse: 0.896146\n",
      "[840]\ttraining's rmse: 0.828101\tvalid_1's rmse: 0.895984\n",
      "[845]\ttraining's rmse: 0.827783\tvalid_1's rmse: 0.896067\n",
      "[850]\ttraining's rmse: 0.827499\tvalid_1's rmse: 0.895992\n",
      "[855]\ttraining's rmse: 0.827202\tvalid_1's rmse: 0.895843\n",
      "[860]\ttraining's rmse: 0.826937\tvalid_1's rmse: 0.895662\n",
      "[865]\ttraining's rmse: 0.826672\tvalid_1's rmse: 0.89559\n",
      "[870]\ttraining's rmse: 0.826393\tvalid_1's rmse: 0.895404\n",
      "[875]\ttraining's rmse: 0.826078\tvalid_1's rmse: 0.895379\n",
      "[880]\ttraining's rmse: 0.825811\tvalid_1's rmse: 0.894999\n",
      "[885]\ttraining's rmse: 0.82552\tvalid_1's rmse: 0.894966\n",
      "[890]\ttraining's rmse: 0.825212\tvalid_1's rmse: 0.894971\n",
      "[895]\ttraining's rmse: 0.824958\tvalid_1's rmse: 0.894965\n",
      "[900]\ttraining's rmse: 0.824608\tvalid_1's rmse: 0.895072\n",
      "[905]\ttraining's rmse: 0.824313\tvalid_1's rmse: 0.895018\n",
      "[910]\ttraining's rmse: 0.823999\tvalid_1's rmse: 0.895226\n",
      "[915]\ttraining's rmse: 0.82368\tvalid_1's rmse: 0.895183\n",
      "[920]\ttraining's rmse: 0.823405\tvalid_1's rmse: 0.895136\n",
      "[925]\ttraining's rmse: 0.823092\tvalid_1's rmse: 0.895089\n",
      "[930]\ttraining's rmse: 0.822842\tvalid_1's rmse: 0.895044\n",
      "[935]\ttraining's rmse: 0.822543\tvalid_1's rmse: 0.895045\n",
      "[940]\ttraining's rmse: 0.822283\tvalid_1's rmse: 0.894982\n",
      "[945]\ttraining's rmse: 0.821913\tvalid_1's rmse: 0.895051\n",
      "[950]\ttraining's rmse: 0.821627\tvalid_1's rmse: 0.895132\n",
      "[955]\ttraining's rmse: 0.821332\tvalid_1's rmse: 0.895069\n",
      "[960]\ttraining's rmse: 0.821052\tvalid_1's rmse: 0.895128\n",
      "[965]\ttraining's rmse: 0.820823\tvalid_1's rmse: 0.89513\n",
      "[970]\ttraining's rmse: 0.820534\tvalid_1's rmse: 0.895049\n",
      "[975]\ttraining's rmse: 0.820281\tvalid_1's rmse: 0.895044\n",
      "[980]\ttraining's rmse: 0.820018\tvalid_1's rmse: 0.895047\n",
      "[985]\ttraining's rmse: 0.819746\tvalid_1's rmse: 0.895058\n",
      "[990]\ttraining's rmse: 0.819521\tvalid_1's rmse: 0.895009\n",
      "Early stopping, best iteration is:\n",
      "[892]\ttraining's rmse: 0.825103\tvalid_1's rmse: 0.894941\n"
     ]
    }
   ],
   "source": [
    "feature_name = X_train.columns.tolist()\n",
    "\n",
    "params = {\n",
    "    'objective': 'mse',\n",
    "    'metric': 'rmse',\n",
    "    'num_leaves': 2 ** 7 - 1,\n",
    "    'learning_rate': 0.005,\n",
    "    'feature_fraction': 0.75,\n",
    "    'bagging_fraction': 0.75,\n",
    "    'bagging_freq': 5,\n",
    "    'seed': 1,\n",
    "    'verbose': 1\n",
    "}\n",
    "\n",
    "feature_name_indexes = [ \n",
    "                        'country_part', \n",
    "                        'item_category_common',\n",
    "                        'item_category_code', \n",
    "                        'city_code',\n",
    "]\n",
    "\n",
    "lgb_train = lgb.Dataset(X_train[feature_name], Y_train)\n",
    "lgb_eval = lgb.Dataset(X_valid[feature_name], Y_valid, reference=lgb_train)\n",
    "\n",
    "evals_result = {}\n",
    "gbm = lgb.train(\n",
    "        params, \n",
    "        lgb_train,\n",
    "        num_boost_round=3000,\n",
    "        valid_sets=(lgb_train, lgb_eval), \n",
    "        feature_name = feature_name,\n",
    "        categorical_feature = feature_name_indexes,\n",
    "        verbose_eval=5, \n",
    "        evals_result = evals_result,\n",
    "        early_stopping_rounds = 100)\n"
   ]
  },
  {
   "cell_type": "code",
   "execution_count": 39,
   "metadata": {
    "execution": {
     "iopub.execute_input": "2020-09-01T16:25:50.542549Z",
     "iopub.status.busy": "2020-09-01T16:25:50.541929Z",
     "iopub.status.idle": "2020-09-01T16:26:09.614164Z",
     "shell.execute_reply": "2020-09-01T16:26:09.613563Z"
    },
    "papermill": {
     "duration": 19.11055,
     "end_time": "2020-09-01T16:26:09.614294",
     "exception": false,
     "start_time": "2020-09-01T16:25:50.503744",
     "status": "completed"
    },
    "tags": []
   },
   "outputs": [],
   "source": [
    "test = pd.read_csv('C:/Users/oabdelgelil/Desktop/datasets/test.csv')\n",
    "Y_test = gbm.predict(X_test[feature_name]).clip(0, 20)\n",
    "\n",
    "submission = pd.DataFrame({\n",
    "    \"ID\": test.index, \n",
    "    \"item_cnt_month\": Y_test\n",
    "})\n"
   ]
  },
  {
   "cell_type": "code",
   "execution_count": 40,
   "metadata": {},
   "outputs": [
    {
     "data": {
      "text/html": [
       "<div>\n",
       "<style scoped>\n",
       "    .dataframe tbody tr th:only-of-type {\n",
       "        vertical-align: middle;\n",
       "    }\n",
       "\n",
       "    .dataframe tbody tr th {\n",
       "        vertical-align: top;\n",
       "    }\n",
       "\n",
       "    .dataframe thead th {\n",
       "        text-align: right;\n",
       "    }\n",
       "</style>\n",
       "<table border=\"1\" class=\"dataframe\">\n",
       "  <thead>\n",
       "    <tr style=\"text-align: right;\">\n",
       "      <th></th>\n",
       "      <th>ID</th>\n",
       "      <th>item_cnt_month</th>\n",
       "    </tr>\n",
       "  </thead>\n",
       "  <tbody>\n",
       "    <tr>\n",
       "      <td>0</td>\n",
       "      <td>0</td>\n",
       "      <td>0.328437</td>\n",
       "    </tr>\n",
       "    <tr>\n",
       "      <td>1</td>\n",
       "      <td>1</td>\n",
       "      <td>0.322033</td>\n",
       "    </tr>\n",
       "    <tr>\n",
       "      <td>2</td>\n",
       "      <td>2</td>\n",
       "      <td>0.765528</td>\n",
       "    </tr>\n",
       "    <tr>\n",
       "      <td>3</td>\n",
       "      <td>3</td>\n",
       "      <td>0.380951</td>\n",
       "    </tr>\n",
       "    <tr>\n",
       "      <td>4</td>\n",
       "      <td>4</td>\n",
       "      <td>2.136420</td>\n",
       "    </tr>\n",
       "  </tbody>\n",
       "</table>\n",
       "</div>"
      ],
      "text/plain": [
       "   ID  item_cnt_month\n",
       "0   0        0.328437\n",
       "1   1        0.322033\n",
       "2   2        0.765528\n",
       "3   3        0.380951\n",
       "4   4        2.136420"
      ]
     },
     "execution_count": 40,
     "metadata": {},
     "output_type": "execute_result"
    }
   ],
   "source": [
    "submission.head()"
   ]
  }
 ],
 "metadata": {
  "kernelspec": {
   "display_name": "Python 3",
   "language": "python",
   "name": "python3"
  },
  "language_info": {
   "codemirror_mode": {
    "name": "ipython",
    "version": 3
   },
   "file_extension": ".py",
   "mimetype": "text/x-python",
   "name": "python",
   "nbconvert_exporter": "python",
   "pygments_lexer": "ipython3",
   "version": "3.7.4"
  },
  "papermill": {
   "duration": 2341.632303,
   "end_time": "2020-09-01T16:26:09.753197",
   "environment_variables": {},
   "exception": null,
   "input_path": "__notebook__.ipynb",
   "output_path": "__notebook__.ipynb",
   "parameters": {},
   "start_time": "2020-09-01T15:47:08.120894",
   "version": "2.1.0"
  }
 },
 "nbformat": 4,
 "nbformat_minor": 4
}
